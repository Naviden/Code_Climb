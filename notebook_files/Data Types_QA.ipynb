{
 "cells": [
  {
   "cell_type": "markdown",
   "id": "c053673c",
   "metadata": {},
   "source": [
    "# Basic Level"
   ]
  },
  {
   "cell_type": "code",
   "execution_count": null,
   "id": "40399291",
   "metadata": {},
   "outputs": [],
   "source": [
    "# 1. String to Integer Conversion\n",
    "# Convert the string \"123\" to an integer.\n",
    "num = int(\"123\")"
   ]
  },
  {
   "cell_type": "code",
   "execution_count": null,
   "id": "40202fd3",
   "metadata": {},
   "outputs": [],
   "source": [
    "# 2. Floating-Point Number to Integer\n",
    "# Convert the float 123.456 to an integer.\n",
    "num = int(123.456)"
   ]
  },
  {
   "cell_type": "code",
   "execution_count": null,
   "id": "eb6d19fd",
   "metadata": {},
   "outputs": [],
   "source": [
    "# 3. Integer to String Conversion\n",
    "# Convert the integer 123 to a string.\n",
    "num_str = str(123)"
   ]
  },
  {
   "cell_type": "code",
   "execution_count": null,
   "id": "38c76507",
   "metadata": {},
   "outputs": [],
   "source": [
    "# 4. List to Tuple Conversion\n",
    "# Convert the list [1, 2, 3] to a tuple.\n",
    "my_tuple = tuple([1, 2, 3])"
   ]
  },
  {
   "cell_type": "code",
   "execution_count": null,
   "id": "52259f21",
   "metadata": {},
   "outputs": [],
   "source": [
    "# 5. Tuple to List Conversion\n",
    "# Convert the tuple (1, 2, 3) to a list.\n",
    "my_list = list((1, 2, 3))"
   ]
  },
  {
   "cell_type": "code",
   "execution_count": null,
   "id": "379beda0",
   "metadata": {},
   "outputs": [],
   "source": [
    "# 6. String to List Conversion\n",
    "# Convert the string \"123\" to a list of characters.\n",
    "char_list = list(\"123\")"
   ]
  },
  {
   "cell_type": "code",
   "execution_count": null,
   "id": "0253d2d1",
   "metadata": {},
   "outputs": [],
   "source": [
    "# 7. List of Strings to Single String\n",
    "# Concatenate the list of strings [\"Hello\", \"World\"] into a single string, separated by spaces.\n",
    "joined_string = \" \".join([\"Hello\", \"World\"])"
   ]
  },
  {
   "cell_type": "code",
   "execution_count": null,
   "id": "94948151",
   "metadata": {},
   "outputs": [],
   "source": [
    "# 8. Check data type\n",
    "# check what is the data type of the following variable\n",
    "cool_var = '3.1415'\n",
    "print(type(cool_var))"
   ]
  },
  {
   "cell_type": "markdown",
   "id": "0d07140f",
   "metadata": {},
   "source": [
    "# Intermediate Level"
   ]
  },
  {
   "cell_type": "code",
   "execution_count": null,
   "id": "88dc2cda",
   "metadata": {},
   "outputs": [],
   "source": [
    "# 9. Dictionary to List of Tuples\n",
    "# Convert the dictionary {\"a\": 1, \"b\": 2, \"c\": 3} to a list of tuples representing key-value pairs.\n",
    "my_dict = {\"a\": 1, \"b\": 2, \"c\": 3}\n",
    "dict_items = list(my_dict.items())"
   ]
  },
  {
   "cell_type": "code",
   "execution_count": null,
   "id": "c44ccca5",
   "metadata": {},
   "outputs": [],
   "source": [
    "# 10. Binary String to Integer\n",
    "# Convert the binary string '1111011' back to an integer.\n",
    "integer_from_binary = int('1111011', 2)"
   ]
  },
  {
   "cell_type": "code",
   "execution_count": null,
   "id": "9c08dd0c",
   "metadata": {},
   "outputs": [],
   "source": [
    "# 11. Floating-Point Number to String with 2 Decimal Places\n",
    "# Convert the floating-point number 123.456 to a string, formatted to have two decimal places.\n",
    "formatted_str = \"{:.2f}\".format(123.456)"
   ]
  },
  {
   "cell_type": "code",
   "execution_count": null,
   "id": "46e4052f",
   "metadata": {},
   "outputs": [],
   "source": [
    "# 12. String to Floating-Point Number\n",
    "# Convert the string \"123.456\" to a floating-point number.\n",
    "float_num = float(\"123.456\")"
   ]
  },
  {
   "cell_type": "code",
   "execution_count": null,
   "id": "652c4462",
   "metadata": {},
   "outputs": [],
   "source": [
    "# 13. Combine Two Lists into a Dictionary\n",
    "# Combine the lists [\"a\", \"b\", \"c\"] and [1, 2, 3] into a dictionary.\n",
    "keys = [\"a\", \"b\", \"c\"]\n",
    "values = [1, 2, 3]\n",
    "combined_dict = dict(zip(keys, values))"
   ]
  },
  {
   "cell_type": "code",
   "execution_count": null,
   "id": "6928f09f",
   "metadata": {},
   "outputs": [],
   "source": [
    "# 14. Extract Values Greater Than a Number\n",
    "# From the dictionary {\"a\": 1, \"b\": 5, \"c\": 10}, extract values greater than 3 into a new dictionary.\n",
    "original_dict = {\"a\": 1, \"b\": 5, \"c\": 10}\n",
    "filtered_dict = {k: v for k, v in original_dict.items() if v > 3}"
   ]
  },
  {
   "cell_type": "code",
   "execution_count": 1,
   "id": "88c50290",
   "metadata": {},
   "outputs": [
    {
     "data": {
      "text/plain": [
       "True"
      ]
     },
     "execution_count": 1,
     "metadata": {},
     "output_type": "execute_result"
    }
   ],
   "source": [
    "# 15. Check for a specific data type\n",
    "# check if the following variable is a string\n",
    "record = 'missing data'\n",
    "print(isinstance(record, str))"
   ]
  },
  {
   "cell_type": "code",
   "execution_count": 2,
   "id": "67b942b9",
   "metadata": {},
   "outputs": [
    {
     "data": {
      "text/plain": [
       "['1', '45', '11', 'a fancy cat', '13']"
      ]
     },
     "execution_count": 2,
     "metadata": {},
     "output_type": "execute_result"
    }
   ],
   "source": [
    "# 16. Type conversion\n",
    "# use list comprehension to convert the items of the following list to string\n",
    "my_list = [1, 45, 11, 'a fancy cat', '13']\n",
    "[str(item) for item in my_list]"
   ]
  },
  {
   "cell_type": "markdown",
   "id": "78047b53",
   "metadata": {},
   "source": [
    "# Review"
   ]
  },
  {
   "cell_type": "markdown",
   "id": "20b491fe",
   "metadata": {},
   "source": [
    "## 1- Conversion to Integer\n",
    "Converting strings to integers is straightforward and commonly done using the built-in function int(). The int() function takes a string  as its argument and converts it into an integer. Here's how you can do it:\n",
    "\n",
    "### Basic Conversion\n",
    "If you have a string that represents a valid integer, you can convert it directly:"
   ]
  },
  {
   "cell_type": "code",
   "execution_count": 7,
   "id": "8fa414de",
   "metadata": {},
   "outputs": [
    {
     "name": "stdout",
     "output_type": "stream",
     "text": [
      "123\n"
     ]
    }
   ],
   "source": [
    "my_string = \"123\"\n",
    "my_int = int(my_string)\n",
    "print(my_int)"
   ]
  },
  {
   "cell_type": "markdown",
   "id": "9371848b",
   "metadata": {},
   "source": [
    "### Handling Errors\n",
    "If the string does not represent a valid integer (for example, it contains letters or special characters), using int() will raise a ValueError. You can handle this with a try-except block:"
   ]
  },
  {
   "cell_type": "code",
   "execution_count": 8,
   "id": "6db23126",
   "metadata": {},
   "outputs": [
    {
     "name": "stdout",
     "output_type": "stream",
     "text": [
      "This string cannot be converted to an integer.\n"
     ]
    }
   ],
   "source": [
    "my_string = \"abc\"\n",
    "try:\n",
    "    my_int = int(my_string)\n",
    "except ValueError:\n",
    "    print(\"This string cannot be converted to an integer.\")"
   ]
  },
  {
   "cell_type": "markdown",
   "id": "dbbbcb79",
   "metadata": {},
   "source": [
    "## Converting With a Base\n",
    "The int() function can also take a second argument for the base in which the number is represented. The default base is 10, which is for decimal numbers. However, you can convert numbers in other bases (e.g., binary, octal, hexadecimal) to integers as well:"
   ]
  },
  {
   "cell_type": "code",
   "execution_count": 9,
   "id": "03ea866c",
   "metadata": {},
   "outputs": [
    {
     "name": "stdout",
     "output_type": "stream",
     "text": [
      "5\n",
      "7\n",
      "10\n"
     ]
    }
   ],
   "source": [
    "# Binary (base 2)\n",
    "binary_string = \"101\"\n",
    "my_int = int(binary_string, 2)\n",
    "print(my_int)  # Output: 5\n",
    "\n",
    "# Octal (base 8)\n",
    "octal_string = \"7\"\n",
    "my_int = int(octal_string, 8)\n",
    "print(my_int)  # Output: 7\n",
    "\n",
    "# Hexadecimal (base 16)\n",
    "hex_string = \"A\"\n",
    "my_int = int(hex_string, 16)\n",
    "print(my_int)  # Output: 10"
   ]
  },
  {
   "cell_type": "markdown",
   "id": "d877b284",
   "metadata": {},
   "source": [
    "### Practical Example\n",
    "Let's say you're reading numbers from a file or input, and you need to sum these numbers. The numbers are provided as strings, and you need to convert them to integers to perform the sum:"
   ]
  },
  {
   "cell_type": "code",
   "execution_count": 11,
   "id": "6a6e3b18",
   "metadata": {},
   "outputs": [
    {
     "name": "stdout",
     "output_type": "stream",
     "text": [
      "60\n"
     ]
    }
   ],
   "source": [
    "number_strings = [\"10\", \"20\", \"30\"]\n",
    "total = sum(int(number) for number in number_strings)\n",
    "print(total)"
   ]
  },
  {
   "cell_type": "markdown",
   "id": "284ac112",
   "metadata": {},
   "source": [
    "## 2 - Conversion to String"
   ]
  },
  {
   "cell_type": "markdown",
   "id": "e7789956",
   "metadata": {},
   "source": [
    "Converting values to strings in Python is a common and straightforward operation, essential for tasks like formatting output, concatenating with other strings, or preparing data for storage. Python uses the built-in `str()` function to convert various data types (including numeric types, lists, tuples, and even objects) to strings. Here's how you can use it:\n",
    "\n",
    "### Basic Conversion\n",
    "\n",
    "For basic data types like integers, floats, and others, you can directly apply the `str()` function:"
   ]
  },
  {
   "cell_type": "code",
   "execution_count": 13,
   "id": "79fba4ed",
   "metadata": {},
   "outputs": [
    {
     "name": "stdout",
     "output_type": "stream",
     "text": [
      "123\n",
      "123.45\n"
     ]
    }
   ],
   "source": [
    "my_int = 123\n",
    "my_str = str(my_int)\n",
    "print(my_str)\n",
    "\n",
    "my_float = 123.45\n",
    "my_str = str(my_float)\n",
    "print(my_str)"
   ]
  },
  {
   "cell_type": "markdown",
   "id": "4c3fe179",
   "metadata": {},
   "source": [
    "### Converting Lists and Tuples\n",
    "\n",
    "You can also convert complex data types such as lists and tuples to strings:"
   ]
  },
  {
   "cell_type": "code",
   "execution_count": 14,
   "id": "d27e4f0c",
   "metadata": {},
   "outputs": [
    {
     "name": "stdout",
     "output_type": "stream",
     "text": [
      "[1, 2, 3]\n",
      "(4, 5, 6)\n"
     ]
    }
   ],
   "source": [
    "my_list = [1, 2, 3]\n",
    "my_str = str(my_list)\n",
    "print(my_str)\n",
    "\n",
    "my_tuple = (4, 5, 6)\n",
    "my_str = str(my_tuple)\n",
    "print(my_str)"
   ]
  },
  {
   "cell_type": "markdown",
   "id": "bdecab22",
   "metadata": {},
   "source": [
    "### Practical Example: Concatenation and Formatting\n",
    "\n",
    "When working with strings, especially in output and messages, converting values to strings is very useful:"
   ]
  },
  {
   "cell_type": "code",
   "execution_count": 15,
   "id": "d8ee794c",
   "metadata": {},
   "outputs": [
    {
     "name": "stdout",
     "output_type": "stream",
     "text": [
      "I am 25 years old.\n"
     ]
    }
   ],
   "source": [
    "age = 25\n",
    "message = \"I am \" + str(age) + \" years old.\"\n",
    "print(message)"
   ]
  },
  {
   "cell_type": "markdown",
   "id": "31704b37",
   "metadata": {},
   "source": [
    "Or using formatted string literals (f-strings), which implicitly convert expressions to their string representations:"
   ]
  },
  {
   "cell_type": "code",
   "execution_count": 16,
   "id": "8806670b",
   "metadata": {},
   "outputs": [
    {
     "name": "stdout",
     "output_type": "stream",
     "text": [
      "I am 25 years old.\n"
     ]
    }
   ],
   "source": [
    "age = 25\n",
    "message = f\"I am {age} years old.\"\n",
    "print(message)"
   ]
  },
  {
   "cell_type": "markdown",
   "id": "77613015",
   "metadata": {},
   "source": [
    "### Handling Non-String Types in Concatenation\n",
    "\n",
    "If you try to concatenate a non-string type with a string without converting it first, Python will raise a `TypeError`. Using `str()` to convert non-string types is essential in these scenarios:"
   ]
  },
  {
   "cell_type": "code",
   "execution_count": 12,
   "id": "877c57a5",
   "metadata": {},
   "outputs": [
    {
     "name": "stdout",
     "output_type": "stream",
     "text": [
      "Number: 100\n"
     ]
    }
   ],
   "source": [
    "number = 100\n",
    "# Attempting to concatenate directly will raise an error\n",
    "# message = \"Number: \" + number  # This will raise a TypeError\n",
    "\n",
    "# Correct approach\n",
    "message = \"Number: \" + str(number)\n",
    "print(message)  # Output: 'Number: 100'"
   ]
  },
  {
   "cell_type": "markdown",
   "id": "6af96b46",
   "metadata": {},
   "source": [
    "## 3 - Concatenating a list's Object"
   ]
  },
  {
   "cell_type": "markdown",
   "id": "1a2a7567",
   "metadata": {},
   "source": [
    "Concatenating a list of strings into a single string is a common task in Python, and there are several ways to accomplish it. The most straightforward method is using the `join()` method of a string object, which combines the elements of a list into a single string, inserting a specified separator between each element. Here's how you can do it:\n",
    "\n",
    "### Using `join()`\n",
    "\n",
    "The `join()` method is called on the separator string, and the list of strings is passed as the argument. If you want to concatenate the strings without any separator, you can use an empty string (`\"\"`) as the separator:"
   ]
  },
  {
   "cell_type": "code",
   "execution_count": 17,
   "id": "10d3d93f",
   "metadata": {},
   "outputs": [
    {
     "name": "stdout",
     "output_type": "stream",
     "text": [
      "Helloworld!\n"
     ]
    }
   ],
   "source": [
    "list_of_strings = [\"Hello\", \"world\", \"!\"]\n",
    "result = \"\".join(list_of_strings)\n",
    "print(result)"
   ]
  },
  {
   "cell_type": "markdown",
   "id": "9323f7ab",
   "metadata": {},
   "source": [
    "If you want to add spaces or any other separator between the elements, specify that separator in the `join()` call:"
   ]
  },
  {
   "cell_type": "code",
   "execution_count": null,
   "id": "fe342020",
   "metadata": {},
   "outputs": [],
   "source": [
    "list_of_strings = [\"Hello\", \"world\", \"!\"]\n",
    "result = \" \".join(list_of_strings)\n",
    "print(result) "
   ]
  },
  {
   "cell_type": "markdown",
   "id": "ce116906",
   "metadata": {},
   "source": [
    "### Concatenation with a Separator\n",
    "\n",
    "You can use any string as a separator, such as a comma `,`, a dash `-`, or even multiple characters:"
   ]
  },
  {
   "cell_type": "code",
   "execution_count": 18,
   "id": "9b99a468",
   "metadata": {},
   "outputs": [
    {
     "name": "stdout",
     "output_type": "stream",
     "text": [
      "2024-02-11\n",
      "2024/02/11\n"
     ]
    }
   ],
   "source": [
    "list_of_strings = [\"2024\", \"02\", \"11\"]\n",
    "date_with_dashes = \"-\".join(list_of_strings)\n",
    "print(date_with_dashes)\n",
    "\n",
    "date_with_slashes = \"/\".join(list_of_strings)\n",
    "print(date_with_slashes)"
   ]
  },
  {
   "cell_type": "markdown",
   "id": "e4d349c3",
   "metadata": {},
   "source": [
    "### Concatenating with a Loop (Not Recommended)\n",
    "\n",
    "Although it's possible to concatenate strings using a loop and the `+` operator, this method is less efficient than `join()` for large lists, because it creates a new string object with each iteration:"
   ]
  },
  {
   "cell_type": "code",
   "execution_count": null,
   "id": "b216a616",
   "metadata": {},
   "outputs": [],
   "source": [
    "list_of_strings = [\"Hello\", \"world\", \"!\"]\n",
    "result = \"\"\n",
    "for s in list_of_strings:\n",
    "    result += s + \" \"  # Adding a space as separator\n",
    "print(result.strip())  # Using strip() to remove the trailing space"
   ]
  },
  {
   "cell_type": "markdown",
   "id": "2b422c14",
   "metadata": {},
   "source": [
    "However, this method is not recommended for concatenating large numbers of strings due to its inefficiency compared to `join()`.\n",
    "\n",
    "For most cases, using the `join()` method is the preferred way to concatenate a list of strings into a single string because it's efficient and concise. It allows you to easily specify a separator, including the option to have no separator at all."
   ]
  },
  {
   "cell_type": "markdown",
   "id": "bcdb2fa3",
   "metadata": {},
   "source": [
    "## 4 - Converting Strings to list"
   ]
  },
  {
   "cell_type": "markdown",
   "id": "eedda87a",
   "metadata": {},
   "source": [
    "Converting a string to a list in Python can be done in several ways, depending on how you want to split or segment the string into list elements. Here are some common methods for converting strings to lists:\n",
    "\n",
    "### 1. Converting a String to a List of Characters\n",
    "\n",
    "If you want to convert a string into a list where each element is a single character from the string, you can use the built-in `list()` function:"
   ]
  },
  {
   "cell_type": "code",
   "execution_count": 25,
   "id": "0b8a14c0",
   "metadata": {},
   "outputs": [
    {
     "name": "stdout",
     "output_type": "stream",
     "text": [
      "['h', 'e', 'l', 'l', 'o']\n"
     ]
    }
   ],
   "source": [
    "my_string = \"hello\"\n",
    "my_list = list(my_string)\n",
    "print(my_list) "
   ]
  },
  {
   "cell_type": "markdown",
   "id": "2224271a",
   "metadata": {},
   "source": [
    "### 2. Splitting a String by Spaces\n",
    "\n",
    "To split a string into a list of words (assuming words are separated by spaces), you can use the `split()` method without specifying a separator, as it defaults to any whitespace:"
   ]
  },
  {
   "cell_type": "code",
   "execution_count": 26,
   "id": "2b592b78",
   "metadata": {},
   "outputs": [
    {
     "name": "stdout",
     "output_type": "stream",
     "text": [
      "['Hello', 'world']\n"
     ]
    }
   ],
   "source": [
    "my_string = \"Hello world\"\n",
    "word_list = my_string.split()\n",
    "print(word_list) "
   ]
  },
  {
   "cell_type": "markdown",
   "id": "ebe8a3de",
   "metadata": {},
   "source": [
    "### 3. Splitting a String by a Specific Separator\n",
    "\n",
    "If your string uses a specific character as a separator (e.g., commas, semicolons, or any other delimiter), you can specify that character in the `split()` method to divide the string accordingly:"
   ]
  },
  {
   "cell_type": "code",
   "execution_count": 27,
   "id": "f5410cbf",
   "metadata": {},
   "outputs": [
    {
     "name": "stdout",
     "output_type": "stream",
     "text": [
      "['apple', 'banana', 'cherry']\n"
     ]
    }
   ],
   "source": [
    "my_string = \"apple,banana,cherry\"\n",
    "fruit_list = my_string.split(',')\n",
    "print(fruit_list)  "
   ]
  },
  {
   "cell_type": "markdown",
   "id": "bb9cb8ab",
   "metadata": {},
   "source": [
    "### 4. Splitting a String with Multiple Delimiters\n",
    "\n",
    "For strings with multiple different separators, you might use regular expressions with the `re.split()` method from the `re` module:"
   ]
  },
  {
   "cell_type": "code",
   "execution_count": 28,
   "id": "d374fe22",
   "metadata": {},
   "outputs": [
    {
     "name": "stdout",
     "output_type": "stream",
     "text": [
      "['apple', 'banana', 'cherry', 'date']\n"
     ]
    }
   ],
   "source": [
    "import re\n",
    "\n",
    "my_string = \"apple, banana; cherry. date\"\n",
    "delimiters = \",|;|\\.\"\n",
    "fruit_list = re.split(delimiters, my_string)\n",
    "fruit_list = [fruit.strip() for fruit in fruit_list]  # Removing any extra whitespace\n",
    "print(fruit_list)  "
   ]
  },
  {
   "cell_type": "markdown",
   "id": "419122f5",
   "metadata": {},
   "source": [
    "### 5. Converting a String to a List of Words (Handling Punctuation)\n",
    "\n",
    "If you want to convert a string into a list of words and handle punctuation properly (i.e., excluding punctuation from words), you might consider using the `word_tokenize` method from the Natural Language Toolkit (`nltk`) library, which is more sophisticated and can handle various edge cases in natural language text:"
   ]
  },
  {
   "cell_type": "code",
   "execution_count": 29,
   "id": "4a8fe0ea",
   "metadata": {},
   "outputs": [
    {
     "name": "stdout",
     "output_type": "stream",
     "text": [
      "['Hello', ',', 'world', '!', 'How', 'are', 'you', '?']\n"
     ]
    }
   ],
   "source": [
    "# You may need to install nltk first\n",
    "# !pip install nltk\n",
    "\n",
    "from nltk.tokenize import word_tokenize\n",
    "\n",
    "my_string = \"Hello, world! How are you?\"\n",
    "word_list = word_tokenize(my_string)\n",
    "print(word_list)  "
   ]
  },
  {
   "cell_type": "markdown",
   "id": "2bb0f7fb",
   "metadata": {},
   "source": [
    "This method is particularly useful for natural language processing tasks where punctuation marks are considered separate tokens."
   ]
  },
  {
   "cell_type": "markdown",
   "id": "0af9147a",
   "metadata": {},
   "source": [
    "## 5 - Tuple Conversion"
   ]
  },
  {
   "cell_type": "markdown",
   "id": "391d987d",
   "metadata": {},
   "source": [
    "Converting various data types to tuples in Python is a straightforward task that can be achieved using the built-in `tuple()` function. Tuples are immutable sequences, which means that once a tuple is created, its contents cannot be modified. Here's how to use the `tuple()` function for converting different types of data to tuples:\n",
    "\n",
    "### Converting Lists to Tuples\n",
    "\n",
    "If you have a list and you want to convert it to a tuple, you can simply pass the list to the `tuple()` function:"
   ]
  },
  {
   "cell_type": "code",
   "execution_count": 19,
   "id": "e690c668",
   "metadata": {},
   "outputs": [
    {
     "name": "stdout",
     "output_type": "stream",
     "text": [
      "(1, 2, 3, 4)\n"
     ]
    }
   ],
   "source": [
    "my_list = [1, 2, 3, 4]\n",
    "my_tuple = tuple(my_list)\n",
    "print(my_tuple)"
   ]
  },
  {
   "cell_type": "markdown",
   "id": "f53ba746",
   "metadata": {},
   "source": [
    "### Converting Strings to Tuples\n",
    "\n",
    "When converting a string to a tuple, each character in the string becomes an element in the tuple:"
   ]
  },
  {
   "cell_type": "code",
   "execution_count": 20,
   "id": "a38677e0",
   "metadata": {},
   "outputs": [
    {
     "name": "stdout",
     "output_type": "stream",
     "text": [
      "('h', 'e', 'l', 'l', 'o')\n"
     ]
    }
   ],
   "source": [
    "my_string = \"hello\"\n",
    "my_tuple = tuple(my_string)\n",
    "print(my_tuple) "
   ]
  },
  {
   "cell_type": "markdown",
   "id": "30a9d908",
   "metadata": {},
   "source": [
    "### Converting Sets to Tuples\n",
    "\n",
    "Sets can also be converted to tuples. This can be useful when you need an immutable and ordered representation of a set's elements:"
   ]
  },
  {
   "cell_type": "code",
   "execution_count": 21,
   "id": "c31f06f4",
   "metadata": {},
   "outputs": [
    {
     "name": "stdout",
     "output_type": "stream",
     "text": [
      "(1, 2, 3, 4, 5)\n"
     ]
    }
   ],
   "source": [
    "my_set = {5, 2, 3, 1, 4}\n",
    "my_tuple = tuple(my_set)\n",
    "print(my_tuple)"
   ]
  },
  {
   "cell_type": "markdown",
   "id": "8c207ee0",
   "metadata": {},
   "source": [
    "Note: The order of elements in the tuple created from a set can be unpredictable because sets are unordered collections. However, the `tuple()` function will convert them into a tuple with a consistent order.\n",
    "\n",
    "### Converting Dictionaries to Tuples\n",
    "\n",
    "When converting a dictionary to a tuple, using `tuple()` directly on the dictionary will convert the dictionary's keys to a tuple. If you want to include both keys and values, you should convert the dictionary's items to a tuple:"
   ]
  },
  {
   "cell_type": "code",
   "execution_count": 22,
   "id": "c8bfe67f",
   "metadata": {},
   "outputs": [
    {
     "name": "stdout",
     "output_type": "stream",
     "text": [
      "('a', 'b', 'c')\n",
      "(('a', 1), ('b', 2), ('c', 3))\n"
     ]
    }
   ],
   "source": [
    "my_dict = {'a': 1, 'b': 2, 'c': 3}\n",
    "keys_tuple = tuple(my_dict)\n",
    "print(keys_tuple)\n",
    "\n",
    "items_tuple = tuple(my_dict.items())\n",
    "print(items_tuple)"
   ]
  },
  {
   "cell_type": "markdown",
   "id": "6596382e",
   "metadata": {},
   "source": [
    "### Converting a Range to a Tuple\n",
    "\n",
    "A range, which is often used for loops, can be converted to a tuple to create a tuple of numbers in a specific range:"
   ]
  },
  {
   "cell_type": "code",
   "execution_count": 23,
   "id": "356d5a65",
   "metadata": {},
   "outputs": [
    {
     "name": "stdout",
     "output_type": "stream",
     "text": [
      "(1, 2, 3, 4)\n"
     ]
    }
   ],
   "source": [
    "my_range = range(1, 5)\n",
    "my_tuple = tuple(my_range)\n",
    "print(my_tuple) "
   ]
  },
  {
   "cell_type": "markdown",
   "id": "2964cc3a",
   "metadata": {},
   "source": [
    "### Converting Generators or Iterators to Tuples\n",
    "\n",
    "If you have a generator or an iterator, you can convert it to a tuple by passing it to the `tuple()` function. This is useful for materializing the generated or iterated values into a static collection:"
   ]
  },
  {
   "cell_type": "code",
   "execution_count": 24,
   "id": "05653435",
   "metadata": {},
   "outputs": [
    {
     "name": "stdout",
     "output_type": "stream",
     "text": [
      "(0, 2, 4, 6, 8)\n"
     ]
    }
   ],
   "source": [
    "my_generator = (x * 2 for x in range(5))\n",
    "my_tuple = tuple(my_generator)\n",
    "print(my_tuple)  "
   ]
  },
  {
   "cell_type": "code",
   "execution_count": null,
   "id": "b18a8255",
   "metadata": {},
   "outputs": [],
   "source": []
  }
 ],
 "metadata": {
  "kernelspec": {
   "display_name": "Python 3 (ipykernel)",
   "language": "python",
   "name": "python3"
  },
  "language_info": {
   "codemirror_mode": {
    "name": "ipython",
    "version": 3
   },
   "file_extension": ".py",
   "mimetype": "text/x-python",
   "name": "python",
   "nbconvert_exporter": "python",
   "pygments_lexer": "ipython3",
   "version": "3.11.5"
  }
 },
 "nbformat": 4,
 "nbformat_minor": 5
}
