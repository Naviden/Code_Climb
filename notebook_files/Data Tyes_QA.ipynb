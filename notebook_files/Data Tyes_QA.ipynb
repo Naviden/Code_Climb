{
 "cells": [
  {
   "cell_type": "markdown",
   "id": "be2d39a9",
   "metadata": {},
   "source": [
    "# Basic Level"
   ]
  },
  {
   "cell_type": "code",
   "execution_count": null,
   "id": "93863d36",
   "metadata": {},
   "outputs": [],
   "source": [
    "# 1. String to Integer Conversion\n",
    "# Convert the string \"123\" to an integer.\n",
    "num = int(\"123\")"
   ]
  },
  {
   "cell_type": "code",
   "execution_count": null,
   "id": "cabe4ad9",
   "metadata": {},
   "outputs": [],
   "source": [
    "# 2. Floating-Point Number to Integer\n",
    "# Convert the float 123.456 to an integer.\n",
    "num = int(123.456)"
   ]
  },
  {
   "cell_type": "code",
   "execution_count": null,
   "id": "385c9609",
   "metadata": {},
   "outputs": [],
   "source": [
    "# 3. Integer to String Conversion\n",
    "# Convert the integer 123 to a string.\n",
    "num_str = str(123)"
   ]
  },
  {
   "cell_type": "code",
   "execution_count": null,
   "id": "0cfedc9b",
   "metadata": {},
   "outputs": [],
   "source": [
    "# 4. List to Tuple Conversion\n",
    "# Convert the list [1, 2, 3] to a tuple.\n",
    "my_tuple = tuple([1, 2, 3])"
   ]
  },
  {
   "cell_type": "code",
   "execution_count": null,
   "id": "aea521d1",
   "metadata": {},
   "outputs": [],
   "source": [
    "# 5. Tuple to List Conversion\n",
    "# Convert the tuple (1, 2, 3) to a list.\n",
    "my_list = list((1, 2, 3))"
   ]
  },
  {
   "cell_type": "code",
   "execution_count": null,
   "id": "d1d5d3c4",
   "metadata": {},
   "outputs": [],
   "source": [
    "# 6. String to List Conversion\n",
    "# Convert the string \"123\" to a list of characters.\n",
    "char_list = list(\"123\")"
   ]
  },
  {
   "cell_type": "code",
   "execution_count": null,
   "id": "94d7b0ff",
   "metadata": {},
   "outputs": [],
   "source": [
    "# 7. List of Strings to Single String\n",
    "# Concatenate the list of strings [\"Hello\", \"World\"] into a single string, separated by spaces.\n",
    "joined_string = \" \".join([\"Hello\", \"World\"])"
   ]
  },
  {
   "cell_type": "code",
   "execution_count": null,
   "id": "1a482293",
   "metadata": {},
   "outputs": [],
   "source": [
    "# 8. Check data type\n",
    "# check what is the data type of the following variable\n",
    "cool_var = '3.1415'\n",
    "print(type(cool_var))"
   ]
  },
  {
   "cell_type": "markdown",
   "id": "710aa0fe",
   "metadata": {},
   "source": [
    "# Intermediate Level"
   ]
  },
  {
   "cell_type": "code",
   "execution_count": null,
   "id": "073edf07",
   "metadata": {},
   "outputs": [],
   "source": [
    "# 9. Dictionary to List of Tuples\n",
    "# Convert the dictionary {\"a\": 1, \"b\": 2, \"c\": 3} to a list of tuples representing key-value pairs.\n",
    "my_dict = {\"a\": 1, \"b\": 2, \"c\": 3}\n",
    "dict_items = list(my_dict.items())"
   ]
  },
  {
   "cell_type": "code",
   "execution_count": null,
   "id": "0f5bb966",
   "metadata": {},
   "outputs": [],
   "source": [
    "# 10. Binary String to Integer\n",
    "# Convert the binary string '1111011' back to an integer.\n",
    "integer_from_binary = int('1111011', 2)"
   ]
  },
  {
   "cell_type": "code",
   "execution_count": null,
   "id": "e949c9a3",
   "metadata": {},
   "outputs": [],
   "source": [
    "# 11. Floating-Point Number to String with 2 Decimal Places\n",
    "# Convert the floating-point number 123.456 to a string, formatted to have two decimal places.\n",
    "formatted_str = \"{:.2f}\".format(123.456)"
   ]
  },
  {
   "cell_type": "code",
   "execution_count": null,
   "id": "450c91eb",
   "metadata": {},
   "outputs": [],
   "source": [
    "# 12. String to Floating-Point Number\n",
    "# Convert the string \"123.456\" to a floating-point number.\n",
    "float_num = float(\"123.456\")"
   ]
  },
  {
   "cell_type": "code",
   "execution_count": null,
   "id": "7f5a2053",
   "metadata": {},
   "outputs": [],
   "source": [
    "# 13. Combine Two Lists into a Dictionary\n",
    "# Combine the lists [\"a\", \"b\", \"c\"] and [1, 2, 3] into a dictionary.\n",
    "keys = [\"a\", \"b\", \"c\"]\n",
    "values = [1, 2, 3]\n",
    "combined_dict = dict(zip(keys, values))"
   ]
  },
  {
   "cell_type": "code",
   "execution_count": null,
   "id": "63b2dddf",
   "metadata": {},
   "outputs": [],
   "source": [
    "# 14. Extract Values Greater Than a Number\n",
    "# From the dictionary {\"a\": 1, \"b\": 5, \"c\": 10}, extract values greater than 3 into a new dictionary.\n",
    "original_dict = {\"a\": 1, \"b\": 5, \"c\": 10}\n",
    "filtered_dict = {k: v for k, v in original_dict.items() if v > 3}"
   ]
  },
  {
   "cell_type": "code",
   "execution_count": 1,
   "id": "235d1473",
   "metadata": {},
   "outputs": [
    {
     "data": {
      "text/plain": [
       "True"
      ]
     },
     "execution_count": 1,
     "metadata": {},
     "output_type": "execute_result"
    }
   ],
   "source": [
    "# 15. Check for a specific data type\n",
    "# check if the following variable is a string\n",
    "record = 'missing data'\n",
    "print(isinstance(record, str))"
   ]
  },
  {
   "cell_type": "code",
   "execution_count": 2,
   "id": "de09537c",
   "metadata": {},
   "outputs": [
    {
     "data": {
      "text/plain": [
       "['1', '45', '11', 'a fancy cat', '13']"
      ]
     },
     "execution_count": 2,
     "metadata": {},
     "output_type": "execute_result"
    }
   ],
   "source": [
    "# 16. Type conversion\n",
    "# use list comprehension to convert the items of the following list to string\n",
    "my_list = [1, 45, 11, 'a fancy cat', '13']\n",
    "[str(item) for item in my_list]"
   ]
  },
  {
   "cell_type": "markdown",
   "id": "84d3e189",
   "metadata": {},
   "source": [
    "# Review"
   ]
  },
  {
   "cell_type": "markdown",
   "id": "6c8bf4e0",
   "metadata": {},
   "source": [
    "## 1- Conversion to Integer\n",
    "Converting strings to integers is straightforward and commonly done using the built-in function int(). The int() function takes a string  as its argument and converts it into an integer. Here's how you can do it:\n",
    "\n",
    "### Basic Conversion\n",
    "If you have a string that represents a valid integer, you can convert it directly:"
   ]
  },
  {
   "cell_type": "code",
   "execution_count": 7,
   "id": "618c45b0",
   "metadata": {},
   "outputs": [
    {
     "name": "stdout",
     "output_type": "stream",
     "text": [
      "123\n"
     ]
    }
   ],
   "source": [
    "my_string = \"123\"\n",
    "my_int = int(my_string)\n",
    "print(my_int)"
   ]
  },
  {
   "cell_type": "markdown",
   "id": "fdd2dc86",
   "metadata": {},
   "source": [
    "### Handling Errors\n",
    "If the string does not represent a valid integer (for example, it contains letters or special characters), using int() will raise a ValueError. You can handle this with a try-except block:"
   ]
  },
  {
   "cell_type": "code",
   "execution_count": 8,
   "id": "06a45993",
   "metadata": {},
   "outputs": [
    {
     "name": "stdout",
     "output_type": "stream",
     "text": [
      "This string cannot be converted to an integer.\n"
     ]
    }
   ],
   "source": [
    "my_string = \"abc\"\n",
    "try:\n",
    "    my_int = int(my_string)\n",
    "except ValueError:\n",
    "    print(\"This string cannot be converted to an integer.\")"
   ]
  },
  {
   "cell_type": "markdown",
   "id": "3c797f16",
   "metadata": {},
   "source": [
    "## Converting With a Base\n",
    "The int() function can also take a second argument for the base in which the number is represented. The default base is 10, which is for decimal numbers. However, you can convert numbers in other bases (e.g., binary, octal, hexadecimal) to integers as well:"
   ]
  },
  {
   "cell_type": "code",
   "execution_count": 9,
   "id": "7cc9dc3c",
   "metadata": {},
   "outputs": [
    {
     "name": "stdout",
     "output_type": "stream",
     "text": [
      "5\n",
      "7\n",
      "10\n"
     ]
    }
   ],
   "source": [
    "# Binary (base 2)\n",
    "binary_string = \"101\"\n",
    "my_int = int(binary_string, 2)\n",
    "print(my_int)  # Output: 5\n",
    "\n",
    "# Octal (base 8)\n",
    "octal_string = \"7\"\n",
    "my_int = int(octal_string, 8)\n",
    "print(my_int)  # Output: 7\n",
    "\n",
    "# Hexadecimal (base 16)\n",
    "hex_string = \"A\"\n",
    "my_int = int(hex_string, 16)\n",
    "print(my_int)  # Output: 10"
   ]
  },
  {
   "cell_type": "markdown",
   "id": "45a7c487",
   "metadata": {},
   "source": [
    "### Practical Example\n",
    "Let's say you're reading numbers from a file or input, and you need to sum these numbers. The numbers are provided as strings, and you need to convert them to integers to perform the sum:"
   ]
  },
  {
   "cell_type": "code",
   "execution_count": 11,
   "id": "458be5f0",
   "metadata": {},
   "outputs": [
    {
     "name": "stdout",
     "output_type": "stream",
     "text": [
      "60\n"
     ]
    }
   ],
   "source": [
    "number_strings = [\"10\", \"20\", \"30\"]\n",
    "total = sum(int(number) for number in number_strings)\n",
    "print(total)"
   ]
  },
  {
   "cell_type": "markdown",
   "id": "3cb27980",
   "metadata": {},
   "source": [
    "## 2 - Conversion to String"
   ]
  },
  {
   "cell_type": "markdown",
   "id": "6c6c6424",
   "metadata": {},
   "source": [
    "Converting values to strings in Python is a common and straightforward operation, essential for tasks like formatting output, concatenating with other strings, or preparing data for storage. Python uses the built-in `str()` function to convert various data types (including numeric types, lists, tuples, and even objects) to strings. Here's how you can use it:\n",
    "\n",
    "### Basic Conversion\n",
    "\n",
    "For basic data types like integers, floats, and others, you can directly apply the `str()` function:"
   ]
  },
  {
   "cell_type": "code",
   "execution_count": 13,
   "id": "e84ff126",
   "metadata": {},
   "outputs": [
    {
     "name": "stdout",
     "output_type": "stream",
     "text": [
      "123\n",
      "123.45\n"
     ]
    }
   ],
   "source": [
    "my_int = 123\n",
    "my_str = str(my_int)\n",
    "print(my_str)\n",
    "\n",
    "my_float = 123.45\n",
    "my_str = str(my_float)\n",
    "print(my_str)"
   ]
  },
  {
   "cell_type": "markdown",
   "id": "141d3afd",
   "metadata": {},
   "source": [
    "### Converting Lists and Tuples\n",
    "\n",
    "You can also convert complex data types such as lists and tuples to strings:"
   ]
  },
  {
   "cell_type": "code",
   "execution_count": 14,
   "id": "058a318d",
   "metadata": {},
   "outputs": [
    {
     "name": "stdout",
     "output_type": "stream",
     "text": [
      "[1, 2, 3]\n",
      "(4, 5, 6)\n"
     ]
    }
   ],
   "source": [
    "my_list = [1, 2, 3]\n",
    "my_str = str(my_list)\n",
    "print(my_str)\n",
    "\n",
    "my_tuple = (4, 5, 6)\n",
    "my_str = str(my_tuple)\n",
    "print(my_str)"
   ]
  },
  {
   "cell_type": "markdown",
   "id": "e8eadf13",
   "metadata": {},
   "source": [
    "### Practical Example: Concatenation and Formatting\n",
    "\n",
    "When working with strings, especially in output and messages, converting values to strings is very useful:"
   ]
  },
  {
   "cell_type": "code",
   "execution_count": 15,
   "id": "c9996650",
   "metadata": {},
   "outputs": [
    {
     "name": "stdout",
     "output_type": "stream",
     "text": [
      "I am 25 years old.\n"
     ]
    }
   ],
   "source": [
    "age = 25\n",
    "message = \"I am \" + str(age) + \" years old.\"\n",
    "print(message)"
   ]
  },
  {
   "cell_type": "markdown",
   "id": "6ca4e0b8",
   "metadata": {},
   "source": [
    "Or using formatted string literals (f-strings), which implicitly convert expressions to their string representations:"
   ]
  },
  {
   "cell_type": "code",
   "execution_count": 16,
   "id": "79bc425b",
   "metadata": {},
   "outputs": [
    {
     "name": "stdout",
     "output_type": "stream",
     "text": [
      "I am 25 years old.\n"
     ]
    }
   ],
   "source": [
    "age = 25\n",
    "message = f\"I am {age} years old.\"\n",
    "print(message)"
   ]
  },
  {
   "cell_type": "markdown",
   "id": "2ceb6061",
   "metadata": {},
   "source": [
    "### Handling Non-String Types in Concatenation\n",
    "\n",
    "If you try to concatenate a non-string type with a string without converting it first, Python will raise a `TypeError`. Using `str()` to convert non-string types is essential in these scenarios:"
   ]
  },
  {
   "cell_type": "code",
   "execution_count": 12,
   "id": "bedc9141",
   "metadata": {},
   "outputs": [
    {
     "name": "stdout",
     "output_type": "stream",
     "text": [
      "Number: 100\n"
     ]
    }
   ],
   "source": [
    "number = 100\n",
    "# Attempting to concatenate directly will raise an error\n",
    "# message = \"Number: \" + number  # This will raise a TypeError\n",
    "\n",
    "# Correct approach\n",
    "message = \"Number: \" + str(number)\n",
    "print(message)  # Output: 'Number: 100'"
   ]
  },
  {
   "cell_type": "markdown",
   "id": "62204ad5",
   "metadata": {},
   "source": [
    "## 3 - Concatenating a list's Object"
   ]
  },
  {
   "cell_type": "markdown",
   "id": "9a06b1ff",
   "metadata": {},
   "source": [
    "Concatenating a list of strings into a single string is a common task in Python, and there are several ways to accomplish it. The most straightforward method is using the `join()` method of a string object, which combines the elements of a list into a single string, inserting a specified separator between each element. Here's how you can do it:\n",
    "\n",
    "### Using `join()`\n",
    "\n",
    "The `join()` method is called on the separator string, and the list of strings is passed as the argument. If you want to concatenate the strings without any separator, you can use an empty string (`\"\"`) as the separator:"
   ]
  },
  {
   "cell_type": "code",
   "execution_count": 17,
   "id": "bac4656e",
   "metadata": {},
   "outputs": [
    {
     "name": "stdout",
     "output_type": "stream",
     "text": [
      "Helloworld!\n"
     ]
    }
   ],
   "source": [
    "list_of_strings = [\"Hello\", \"world\", \"!\"]\n",
    "result = \"\".join(list_of_strings)\n",
    "print(result)"
   ]
  },
  {
   "cell_type": "markdown",
   "id": "6e161d38",
   "metadata": {},
   "source": [
    "If you want to add spaces or any other separator between the elements, specify that separator in the `join()` call:"
   ]
  },
  {
   "cell_type": "code",
   "execution_count": null,
   "id": "6f3cd579",
   "metadata": {},
   "outputs": [],
   "source": [
    "list_of_strings = [\"Hello\", \"world\", \"!\"]\n",
    "result = \" \".join(list_of_strings)\n",
    "print(result) "
   ]
  },
  {
   "cell_type": "markdown",
   "id": "fbe84417",
   "metadata": {},
   "source": [
    "### Concatenation with a Separator\n",
    "\n",
    "You can use any string as a separator, such as a comma `,`, a dash `-`, or even multiple characters:"
   ]
  },
  {
   "cell_type": "code",
   "execution_count": 18,
   "id": "3e3efc99",
   "metadata": {},
   "outputs": [
    {
     "name": "stdout",
     "output_type": "stream",
     "text": [
      "2024-02-11\n",
      "2024/02/11\n"
     ]
    }
   ],
   "source": [
    "list_of_strings = [\"2024\", \"02\", \"11\"]\n",
    "date_with_dashes = \"-\".join(list_of_strings)\n",
    "print(date_with_dashes)\n",
    "\n",
    "date_with_slashes = \"/\".join(list_of_strings)\n",
    "print(date_with_slashes)"
   ]
  },
  {
   "cell_type": "markdown",
   "id": "a5613ead",
   "metadata": {},
   "source": [
    "### Concatenating with a Loop (Not Recommended)\n",
    "\n",
    "Although it's possible to concatenate strings using a loop and the `+` operator, this method is less efficient than `join()` for large lists, because it creates a new string object with each iteration:"
   ]
  },
  {
   "cell_type": "code",
   "execution_count": null,
   "id": "70e5e333",
   "metadata": {},
   "outputs": [],
   "source": [
    "list_of_strings = [\"Hello\", \"world\", \"!\"]\n",
    "result = \"\"\n",
    "for s in list_of_strings:\n",
    "    result += s + \" \"  # Adding a space as separator\n",
    "print(result.strip())  # Using strip() to remove the trailing space"
   ]
  },
  {
   "cell_type": "markdown",
   "id": "a2a4bd1c",
   "metadata": {},
   "source": [
    "However, this method is not recommended for concatenating large numbers of strings due to its inefficiency compared to `join()`.\n",
    "\n",
    "For most cases, using the `join()` method is the preferred way to concatenate a list of strings into a single string because it's efficient and concise. It allows you to easily specify a separator, including the option to have no separator at all."
   ]
  },
  {
   "cell_type": "markdown",
   "id": "a706cb88",
   "metadata": {},
   "source": [
    "## 4 - Converting Strings to list"
   ]
  },
  {
   "cell_type": "markdown",
   "id": "5e55afd6",
   "metadata": {},
   "source": [
    "Converting a string to a list in Python can be done in several ways, depending on how you want to split or segment the string into list elements. Here are some common methods for converting strings to lists:\n",
    "\n",
    "### Converting a String to a List of Characters\n",
    "\n",
    "If you want to convert a string into a list where each element is a single character from the string, you can use the built-in `list()` function:"
   ]
  },
  {
   "cell_type": "code",
   "execution_count": 25,
   "id": "188f71c5",
   "metadata": {},
   "outputs": [
    {
     "name": "stdout",
     "output_type": "stream",
     "text": [
      "['h', 'e', 'l', 'l', 'o']\n"
     ]
    }
   ],
   "source": [
    "my_string = \"hello\"\n",
    "my_list = list(my_string)\n",
    "print(my_list) "
   ]
  },
  {
   "cell_type": "markdown",
   "id": "24988e2d",
   "metadata": {},
   "source": [
    "### Splitting a String by Spaces\n",
    "\n",
    "To split a string into a list of words (assuming words are separated by spaces), you can use the `split()` method without specifying a separator, as it defaults to any whitespace:"
   ]
  },
  {
   "cell_type": "code",
   "execution_count": 26,
   "id": "fdc0b674",
   "metadata": {},
   "outputs": [
    {
     "name": "stdout",
     "output_type": "stream",
     "text": [
      "['Hello', 'world']\n"
     ]
    }
   ],
   "source": [
    "my_string = \"Hello world\"\n",
    "word_list = my_string.split()\n",
    "print(word_list) "
   ]
  },
  {
   "cell_type": "markdown",
   "id": "0a214b7c",
   "metadata": {},
   "source": [
    "### Splitting a String by a Specific Separator\n",
    "\n",
    "If your string uses a specific character as a separator (e.g., commas, semicolons, or any other delimiter), you can specify that character in the `split()` method to divide the string accordingly:"
   ]
  },
  {
   "cell_type": "code",
   "execution_count": 27,
   "id": "20e7a7c0",
   "metadata": {},
   "outputs": [
    {
     "name": "stdout",
     "output_type": "stream",
     "text": [
      "['apple', 'banana', 'cherry']\n"
     ]
    }
   ],
   "source": [
    "my_string = \"apple,banana,cherry\"\n",
    "fruit_list = my_string.split(',')\n",
    "print(fruit_list)  "
   ]
  },
  {
   "cell_type": "markdown",
   "id": "be5b7ab1",
   "metadata": {},
   "source": [
    "### Splitting a String with Multiple Delimiters\n",
    "\n",
    "For strings with multiple different separators, you might use regular expressions with the `re.split()` method from the `re` module:"
   ]
  },
  {
   "cell_type": "code",
   "execution_count": 28,
   "id": "2d0acb05",
   "metadata": {},
   "outputs": [
    {
     "name": "stdout",
     "output_type": "stream",
     "text": [
      "['apple', 'banana', 'cherry', 'date']\n"
     ]
    }
   ],
   "source": [
    "import re\n",
    "\n",
    "my_string = \"apple, banana; cherry. date\"\n",
    "delimiters = \",|;|\\.\"\n",
    "fruit_list = re.split(delimiters, my_string)\n",
    "fruit_list = [fruit.strip() for fruit in fruit_list]  # Removing any extra whitespace\n",
    "print(fruit_list)  "
   ]
  },
  {
   "cell_type": "markdown",
   "id": "8b9fc7ac",
   "metadata": {},
   "source": [
    "### Converting a String to a List of Words (Handling Punctuation)\n",
    "\n",
    "If you want to convert a string into a list of words and handle punctuation properly (i.e., excluding punctuation from words), you might consider using the `word_tokenize` method from the Natural Language Toolkit (`nltk`) library, which is more sophisticated and can handle various edge cases in natural language text:"
   ]
  },
  {
   "cell_type": "code",
   "execution_count": 29,
   "id": "783a05c1",
   "metadata": {},
   "outputs": [
    {
     "name": "stdout",
     "output_type": "stream",
     "text": [
      "['Hello', ',', 'world', '!', 'How', 'are', 'you', '?']\n"
     ]
    }
   ],
   "source": [
    "# You may need to install nltk first\n",
    "# !pip install nltk\n",
    "\n",
    "from nltk.tokenize import word_tokenize\n",
    "\n",
    "my_string = \"Hello, world! How are you?\"\n",
    "word_list = word_tokenize(my_string)\n",
    "print(word_list)  "
   ]
  },
  {
   "cell_type": "markdown",
   "id": "3db88444",
   "metadata": {},
   "source": [
    "This method is particularly useful for natural language processing tasks where punctuation marks are considered separate tokens."
   ]
  },
  {
   "cell_type": "markdown",
   "id": "c3183ffb",
   "metadata": {},
   "source": [
    "## 5 - Tuple Conversion"
   ]
  },
  {
   "cell_type": "markdown",
   "id": "c1935278",
   "metadata": {},
   "source": [
    "Converting various data types to tuples in Python is a straightforward task that can be achieved using the built-in `tuple()` function. Tuples are immutable sequences, which means that once a tuple is created, its contents cannot be modified. Here's how to use the `tuple()` function for converting different types of data to tuples:\n",
    "\n",
    "### Converting Lists to Tuples\n",
    "\n",
    "If you have a list and you want to convert it to a tuple, you can simply pass the list to the `tuple()` function:"
   ]
  },
  {
   "cell_type": "code",
   "execution_count": 19,
   "id": "2e36543e",
   "metadata": {},
   "outputs": [
    {
     "name": "stdout",
     "output_type": "stream",
     "text": [
      "(1, 2, 3, 4)\n"
     ]
    }
   ],
   "source": [
    "my_list = [1, 2, 3, 4]\n",
    "my_tuple = tuple(my_list)\n",
    "print(my_tuple)"
   ]
  },
  {
   "cell_type": "markdown",
   "id": "ad02b242",
   "metadata": {},
   "source": [
    "### Converting Strings to Tuples\n",
    "\n",
    "When converting a string to a tuple, each character in the string becomes an element in the tuple:"
   ]
  },
  {
   "cell_type": "code",
   "execution_count": 20,
   "id": "d66303fb",
   "metadata": {},
   "outputs": [
    {
     "name": "stdout",
     "output_type": "stream",
     "text": [
      "('h', 'e', 'l', 'l', 'o')\n"
     ]
    }
   ],
   "source": [
    "my_string = \"hello\"\n",
    "my_tuple = tuple(my_string)\n",
    "print(my_tuple) "
   ]
  },
  {
   "cell_type": "markdown",
   "id": "9dec78d8",
   "metadata": {},
   "source": [
    "### Converting Sets to Tuples\n",
    "\n",
    "Sets can also be converted to tuples. This can be useful when you need an immutable and ordered representation of a set's elements:"
   ]
  },
  {
   "cell_type": "code",
   "execution_count": 21,
   "id": "c3eab678",
   "metadata": {},
   "outputs": [
    {
     "name": "stdout",
     "output_type": "stream",
     "text": [
      "(1, 2, 3, 4, 5)\n"
     ]
    }
   ],
   "source": [
    "my_set = {5, 2, 3, 1, 4}\n",
    "my_tuple = tuple(my_set)\n",
    "print(my_tuple)"
   ]
  },
  {
   "cell_type": "markdown",
   "id": "df6c9a60",
   "metadata": {},
   "source": [
    "Note: The order of elements in the tuple created from a set can be unpredictable because sets are unordered collections. However, the `tuple()` function will convert them into a tuple with a consistent order.\n",
    "\n",
    "### Converting Dictionaries to Tuples\n",
    "\n",
    "When converting a dictionary to a tuple, using `tuple()` directly on the dictionary will convert the dictionary's keys to a tuple. If you want to include both keys and values, you should convert the dictionary's items to a tuple:"
   ]
  },
  {
   "cell_type": "code",
   "execution_count": 22,
   "id": "4f8238c8",
   "metadata": {},
   "outputs": [
    {
     "name": "stdout",
     "output_type": "stream",
     "text": [
      "('a', 'b', 'c')\n",
      "(('a', 1), ('b', 2), ('c', 3))\n"
     ]
    }
   ],
   "source": [
    "my_dict = {'a': 1, 'b': 2, 'c': 3}\n",
    "keys_tuple = tuple(my_dict)\n",
    "print(keys_tuple)\n",
    "\n",
    "items_tuple = tuple(my_dict.items())\n",
    "print(items_tuple)"
   ]
  },
  {
   "cell_type": "markdown",
   "id": "6c10b595",
   "metadata": {},
   "source": [
    "### Converting a Range to a Tuple\n",
    "\n",
    "A range, which is often used for loops, can be converted to a tuple to create a tuple of numbers in a specific range:"
   ]
  },
  {
   "cell_type": "code",
   "execution_count": 23,
   "id": "b1b16c70",
   "metadata": {},
   "outputs": [
    {
     "name": "stdout",
     "output_type": "stream",
     "text": [
      "(1, 2, 3, 4)\n"
     ]
    }
   ],
   "source": [
    "my_range = range(1, 5)\n",
    "my_tuple = tuple(my_range)\n",
    "print(my_tuple) "
   ]
  },
  {
   "cell_type": "markdown",
   "id": "f6de1454",
   "metadata": {},
   "source": [
    "### Converting Generators or Iterators to Tuples\n",
    "\n",
    "If you have a generator or an iterator, you can convert it to a tuple by passing it to the `tuple()` function. This is useful for materializing the generated or iterated values into a static collection:"
   ]
  },
  {
   "cell_type": "code",
   "execution_count": 24,
   "id": "7dbc5f90",
   "metadata": {},
   "outputs": [
    {
     "name": "stdout",
     "output_type": "stream",
     "text": [
      "(0, 2, 4, 6, 8)\n"
     ]
    }
   ],
   "source": [
    "my_generator = (x * 2 for x in range(5))\n",
    "my_tuple = tuple(my_generator)\n",
    "print(my_tuple)  "
   ]
  },
  {
   "cell_type": "markdown",
   "id": "57cfa9f5",
   "metadata": {},
   "source": [
    "# 6 - Working with Dictionaries"
   ]
  },
  {
   "cell_type": "markdown",
   "id": "30b1a102",
   "metadata": {},
   "source": [
    "Python dictionaries are versatile containers that store key-value pairs, where each key is unique. Dictionaries are mutable, which means you can modify them after they are created. Here's an overview of basic actions you can perform on a dictionary and its items:\n",
    "\n",
    "### Creating a Dictionary\n",
    "\n",
    "You can create a dictionary by enclosing key-value pairs in curly braces `{}` or by using the `dict()` constructor."
   ]
  },
  {
   "cell_type": "code",
   "execution_count": 30,
   "id": "a9f53633",
   "metadata": {},
   "outputs": [],
   "source": [
    "# Using curly braces\n",
    "my_dict = {'name': 'John', 'age': 30}\n",
    "\n",
    "# Using the dict() constructor\n",
    "my_dict = dict(name='John', age=30)"
   ]
  },
  {
   "cell_type": "markdown",
   "id": "a93832fc",
   "metadata": {},
   "source": [
    "### Accessing Dictionary Values\n",
    "\n",
    "You access dictionary values by referencing their keys inside square brackets `[]` or with the `get()` method."
   ]
  },
  {
   "cell_type": "code",
   "execution_count": 31,
   "id": "6da77e16",
   "metadata": {},
   "outputs": [
    {
     "name": "stdout",
     "output_type": "stream",
     "text": [
      "John\n",
      "30\n"
     ]
    }
   ],
   "source": [
    "print(my_dict['name'])  # Output: John\n",
    "print(my_dict.get('age'))  # Output: 30"
   ]
  },
  {
   "cell_type": "markdown",
   "id": "d4228126",
   "metadata": {},
   "source": [
    "### Adding or Updating Items\n",
    "\n",
    "You can add a new key-value pair or update the value of an existing key by assigning a value to the key."
   ]
  },
  {
   "cell_type": "code",
   "execution_count": 32,
   "id": "28158855",
   "metadata": {},
   "outputs": [],
   "source": [
    "my_dict['city'] = 'New York'  # Adds a new key-value pair\n",
    "my_dict['age'] = 31  # Updates the value of an existing key"
   ]
  },
  {
   "cell_type": "markdown",
   "id": "cad324ca",
   "metadata": {},
   "source": [
    "### Removing Items\n",
    "\n",
    "Several methods can be used to remove items from a dictionary:\n",
    "\n",
    "- Using `del` to remove an item by key:\n",
    "  "
   ]
  },
  {
   "cell_type": "code",
   "execution_count": 33,
   "id": "73e6e3cc",
   "metadata": {},
   "outputs": [],
   "source": [
    "del my_dict['city']"
   ]
  },
  {
   "cell_type": "markdown",
   "id": "50d73d2f",
   "metadata": {},
   "source": [
    "- Using `pop()` to remove an item by key and return its value:"
   ]
  },
  {
   "cell_type": "code",
   "execution_count": 34,
   "id": "1373d8a9",
   "metadata": {},
   "outputs": [],
   "source": [
    "age = my_dict.pop('age')"
   ]
  },
  {
   "cell_type": "markdown",
   "id": "522c6abc",
   "metadata": {},
   "source": [
    "- Using `popitem()` to remove and return the last inserted key-value pair (as of Python 3.7, dictionaries are insertion ordered):"
   ]
  },
  {
   "cell_type": "code",
   "execution_count": 35,
   "id": "c211390f",
   "metadata": {},
   "outputs": [],
   "source": [
    "item = my_dict.popitem()"
   ]
  },
  {
   "cell_type": "markdown",
   "id": "aad12846",
   "metadata": {},
   "source": [
    "- Using `clear()` to remove all items from the dictionary:"
   ]
  },
  {
   "cell_type": "code",
   "execution_count": 36,
   "id": "824a90cd",
   "metadata": {},
   "outputs": [],
   "source": [
    "my_dict.clear()"
   ]
  },
  {
   "cell_type": "markdown",
   "id": "e8a0526f",
   "metadata": {},
   "source": [
    "### Checking if a Key Exists\n",
    "\n",
    "You can check if a key exists in a dictionary with the `in` keyword:"
   ]
  },
  {
   "cell_type": "code",
   "execution_count": 37,
   "id": "bca9bf24",
   "metadata": {},
   "outputs": [],
   "source": [
    "if 'name' in my_dict:\n",
    "    print(\"Name is in the dictionary\")"
   ]
  },
  {
   "cell_type": "markdown",
   "id": "13056785",
   "metadata": {},
   "source": [
    "### Iterating Over a Dictionary\n",
    "\n",
    "You can iterate over keys, values, or key-value pairs in a dictionary:\n",
    "\n",
    "- Iterating over keys (default behavior):"
   ]
  },
  {
   "cell_type": "code",
   "execution_count": 38,
   "id": "59fb6423",
   "metadata": {},
   "outputs": [],
   "source": [
    "for key in my_dict:\n",
    "    print(key)"
   ]
  },
  {
   "cell_type": "markdown",
   "id": "69231b64",
   "metadata": {},
   "source": [
    "- Iterating over values:"
   ]
  },
  {
   "cell_type": "code",
   "execution_count": 39,
   "id": "24802b41",
   "metadata": {},
   "outputs": [],
   "source": [
    "for value in my_dict.values():\n",
    "    print(value)"
   ]
  },
  {
   "cell_type": "markdown",
   "id": "754efb63",
   "metadata": {},
   "source": [
    "- Iterating over key-value pairs:"
   ]
  },
  {
   "cell_type": "code",
   "execution_count": 40,
   "id": "1c04a2f8",
   "metadata": {},
   "outputs": [],
   "source": [
    "for key, value in my_dict.items():\n",
    "    print(key, value)"
   ]
  },
  {
   "cell_type": "markdown",
   "id": "17d2c231",
   "metadata": {},
   "source": [
    "### Dictionary Comprehensions\n",
    "\n",
    "Dictionary comprehensions allow you to create dictionaries from arbitrary key and value expressions:"
   ]
  },
  {
   "cell_type": "code",
   "execution_count": 41,
   "id": "7824bc35",
   "metadata": {},
   "outputs": [],
   "source": [
    "squares = {x: x*x for x in range(6)}"
   ]
  },
  {
   "cell_type": "markdown",
   "id": "880ce64e",
   "metadata": {},
   "source": [
    "### Getting the Length of a Dictionary\n",
    "\n",
    "Use the `len()` function to find out how many key-value pairs are in a dictionary:"
   ]
  },
  {
   "cell_type": "code",
   "execution_count": 42,
   "id": "b3c84721",
   "metadata": {},
   "outputs": [
    {
     "name": "stdout",
     "output_type": "stream",
     "text": [
      "0\n"
     ]
    }
   ],
   "source": [
    "print(len(my_dict))"
   ]
  },
  {
   "cell_type": "markdown",
   "id": "b0404dac",
   "metadata": {},
   "source": [
    "### Merging Dictionaries\n",
    "\n",
    "You can merge two dictionaries:\n",
    "\n",
    "- Using the `update()` method (modifies the dictionary in-place):"
   ]
  },
  {
   "cell_type": "code",
   "execution_count": null,
   "id": "a46a0c00",
   "metadata": {},
   "outputs": [],
   "source": [
    "my_dict.update(another_dict)"
   ]
  },
  {
   "cell_type": "markdown",
   "id": "dced1c7b",
   "metadata": {},
   "source": [
    "- Using the `|` operator in Python 3.9 and later (creates a new dictionary):"
   ]
  },
  {
   "cell_type": "code",
   "execution_count": null,
   "id": "1fd528db",
   "metadata": {},
   "outputs": [],
   "source": [
    "merged_dict = my_dict | another_dict"
   ]
  },
  {
   "cell_type": "markdown",
   "id": "8a258dee",
   "metadata": {},
   "source": [
    "These basic actions form the foundation of working with dictionaries in Python, allowing for efficient storage, access, and manipulation of data organized in key-value pairs."
   ]
  },
  {
   "cell_type": "markdown",
   "id": "0e20d86e",
   "metadata": {},
   "source": [
    "# 7 - Float Conversion"
   ]
  },
  {
   "cell_type": "markdown",
   "id": "95deefe6",
   "metadata": {},
   "source": [
    "Converting various data types to floating-point numbers (floats) in Python can be efficiently accomplished using the built-in `float()` function. This conversion is commonly used when you need to perform mathematical operations on data that may not initially be in a numerical format. Here's how to use the `float()` function for converting different types of data to floats:\n",
    "\n",
    "### Converting Strings to Floats\n",
    "\n",
    "If you have a string that represents a number (including integers or floating-point numbers), you can convert it to a float using `float()`:"
   ]
  },
  {
   "cell_type": "code",
   "execution_count": 44,
   "id": "beebc52e",
   "metadata": {},
   "outputs": [
    {
     "name": "stdout",
     "output_type": "stream",
     "text": [
      "123.45\n"
     ]
    }
   ],
   "source": [
    "my_string = \"123.45\"\n",
    "my_float = float(my_string)\n",
    "print(my_float)  # Output: 123.45"
   ]
  },
  {
   "cell_type": "markdown",
   "id": "d30882cc",
   "metadata": {},
   "source": [
    "If the string does not represent a valid number, a `ValueError` will be raised:"
   ]
  },
  {
   "cell_type": "code",
   "execution_count": 45,
   "id": "186ec077",
   "metadata": {},
   "outputs": [
    {
     "name": "stdout",
     "output_type": "stream",
     "text": [
      "This string cannot be converted to float.\n"
     ]
    }
   ],
   "source": [
    "my_string = \"not a number\"\n",
    "try:\n",
    "    my_float = float(my_string)\n",
    "except ValueError:\n",
    "    print(\"This string cannot be converted to float.\")"
   ]
  },
  {
   "cell_type": "markdown",
   "id": "45a11e77",
   "metadata": {},
   "source": [
    "### Converting Integers to Floats\n",
    "\n",
    "You can also convert integers to floats. This might be useful when you need to ensure floating-point division or precise calculations:"
   ]
  },
  {
   "cell_type": "code",
   "execution_count": 46,
   "id": "03ade6af",
   "metadata": {},
   "outputs": [
    {
     "name": "stdout",
     "output_type": "stream",
     "text": [
      "100.0\n"
     ]
    }
   ],
   "source": [
    "my_int = 100\n",
    "my_float = float(my_int)\n",
    "print(my_float)  # Output: 100.0"
   ]
  },
  {
   "cell_type": "markdown",
   "id": "dfd88aec",
   "metadata": {},
   "source": [
    "### Handling Other Data Types\n",
    "\n",
    "While `float()` is versatile, it has limitations with non-numeric types. For instance, converting a list, dictionary, or boolean value directly to a float without an intermediary step will raise a `TypeError`. However, boolean values are an exception where `True` and `False` are treated as `1` and `0`, respectively:"
   ]
  },
  {
   "cell_type": "code",
   "execution_count": 47,
   "id": "4654f2de",
   "metadata": {},
   "outputs": [
    {
     "name": "stdout",
     "output_type": "stream",
     "text": [
      "1.0\n",
      "0.0\n"
     ]
    }
   ],
   "source": [
    "true_value = float(True)\n",
    "false_value = float(False)\n",
    "print(true_value)  # Output: 1.0\n",
    "print(false_value)  # Output: 0.0"
   ]
  },
  {
   "cell_type": "markdown",
   "id": "ff11a483",
   "metadata": {},
   "source": [
    "### Practical Example: Calculations with User Input\n",
    "\n",
    "A common use case for converting to float is when you're dealing with user input. User inputs are received as strings, and converting these inputs to floats is necessary for numerical calculations:"
   ]
  },
  {
   "cell_type": "code",
   "execution_count": 48,
   "id": "6f516735",
   "metadata": {},
   "outputs": [
    {
     "name": "stdout",
     "output_type": "stream",
     "text": [
      "Enter the radius of the circle: 3.4\n",
      "The area of the circle is: 36.316811075498\n"
     ]
    }
   ],
   "source": [
    "# Example: Calculating the area of a circle from user input\n",
    "import math\n",
    "\n",
    "radius_str = input(\"Enter the radius of the circle: \")\n",
    "radius = float(radius_str)\n",
    "area = math.pi * (radius ** 2)\n",
    "print(\"The area of the circle is:\", area)"
   ]
  },
  {
   "cell_type": "markdown",
   "id": "10d18d97",
   "metadata": {},
   "source": [
    "### Parsing Complex Strings\n",
    "\n",
    "For strings that contain numbers mixed with other characters (e.g., \"$123.45\" or \"100%\"), direct conversion to float will fail due to the non-numeric characters. In such cases, you may need to preprocess the string to extract the numeric part before conversion:"
   ]
  },
  {
   "cell_type": "code",
   "execution_count": 49,
   "id": "6b0b9da3",
   "metadata": {},
   "outputs": [
    {
     "name": "stdout",
     "output_type": "stream",
     "text": [
      "123.45\n"
     ]
    }
   ],
   "source": [
    "price_str = \"$123.45\"\n",
    "# Remove the dollar sign and convert to float\n",
    "price = float(price_str.replace(\"$\", \"\"))\n",
    "print(price)  # Output: 123.45"
   ]
  },
  {
   "cell_type": "markdown",
   "id": "8b4c1f16",
   "metadata": {},
   "source": [
    "# 8 - Zip"
   ]
  },
  {
   "cell_type": "markdown",
   "id": "bd31c0a6",
   "metadata": {},
   "source": [
    "The `zip()` function in Python is a powerful built-in function that aggregates elements from two or more iterables (like lists, tuples, or strings) and returns an iterator of tuples, where each tuple contains elements from the input iterables based on their positions. `zip()` is commonly used for parallel iteration over multiple iterables, making it very useful for tasks that require combining data from different sources.\n",
    "\n",
    "### Basic Usage\n",
    "\n",
    "Here’s a simple example of how to use `zip()` with two lists:"
   ]
  },
  {
   "cell_type": "code",
   "execution_count": 50,
   "id": "afdde1e1",
   "metadata": {},
   "outputs": [
    {
     "name": "stdout",
     "output_type": "stream",
     "text": [
      "[('Alice', 25), ('Bob', 30), ('Charlie', 35)]\n"
     ]
    }
   ],
   "source": [
    "names = ['Alice', 'Bob', 'Charlie']\n",
    "ages = [25, 30, 35]\n",
    "\n",
    "zipped = zip(names, ages)\n",
    "print(list(zipped)) "
   ]
  },
  {
   "cell_type": "markdown",
   "id": "af2e461d",
   "metadata": {},
   "source": [
    "In this example, `zip()` pairs each element from the first list with the corresponding element in the second list, creating a series of tuples.\n",
    "\n",
    "### Working with Multiple Iterables\n",
    "\n",
    "`zip()` can work with more than two iterables. The function pairs elements from each iterable based on their positions, stopping when the shortest iterable is exhausted:"
   ]
  },
  {
   "cell_type": "code",
   "execution_count": 51,
   "id": "2f3d14fc",
   "metadata": {},
   "outputs": [
    {
     "name": "stdout",
     "output_type": "stream",
     "text": [
      "[('Alice', 25, 'New York'), ('Bob', 30, 'Los Angeles'), ('Charlie', 35, 'Chicago')]\n"
     ]
    }
   ],
   "source": [
    "names = ['Alice', 'Bob', 'Charlie']\n",
    "ages = [25, 30, 35]\n",
    "cities = ['New York', 'Los Angeles', 'Chicago']\n",
    "\n",
    "zipped = zip(names, ages, cities)\n",
    "print(list(zipped))  "
   ]
  },
  {
   "cell_type": "markdown",
   "id": "fa65f441",
   "metadata": {},
   "source": [
    "### Unzipping Values\n",
    "\n",
    "You can also use `zip(*iterable)` to \"unzip\" values. This is essentially the inverse operation of `zip()` and can be used to split the grouped values back into separate variables:"
   ]
  },
  {
   "cell_type": "code",
   "execution_count": 52,
   "id": "7420854e",
   "metadata": {},
   "outputs": [
    {
     "name": "stdout",
     "output_type": "stream",
     "text": [
      "('Alice', 'Bob', 'Charlie')\n",
      "(25, 30, 35)\n",
      "('New York', 'Los Angeles', 'Chicago')\n"
     ]
    }
   ],
   "source": [
    "zipped = [('Alice', 25, 'New York'), ('Bob', 30, 'Los Angeles'), ('Charlie', 35, 'Chicago')]\n",
    "names, ages, cities = zip(*zipped)\n",
    "\n",
    "print(names)  \n",
    "print(ages)  \n",
    "print(cities)"
   ]
  },
  {
   "cell_type": "markdown",
   "id": "1dd4af75",
   "metadata": {},
   "source": [
    "### Handling Iterables of Different Lengths\n",
    "\n",
    "If the input iterables are of different lengths, `zip()` stops combining elements once the shortest iterable is exhausted. This behavior means some elements from the longer iterables will not be included in the output:"
   ]
  },
  {
   "cell_type": "code",
   "execution_count": 53,
   "id": "721e1c47",
   "metadata": {},
   "outputs": [
    {
     "name": "stdout",
     "output_type": "stream",
     "text": [
      "[('Alice', 25), ('Bob', 30), ('Charlie', 35)]\n"
     ]
    }
   ],
   "source": [
    "names = ['Alice', 'Bob', 'Charlie', 'Dave']\n",
    "ages = [25, 30, 35]  # Shorter than names\n",
    "\n",
    "zipped = zip(names, ages)\n",
    "print(list(zipped))  "
   ]
  },
  {
   "cell_type": "markdown",
   "id": "fc500e79",
   "metadata": {},
   "source": [
    "### Using `zip()` with Dictionaries\n",
    "\n",
    "When zipping dictionaries, `zip()` combines the keys by default. To zip values or key-value pairs, you should explicitly call `.values()` or `.items()`:"
   ]
  },
  {
   "cell_type": "code",
   "execution_count": 54,
   "id": "4bd349e5",
   "metadata": {},
   "outputs": [
    {
     "name": "stdout",
     "output_type": "stream",
     "text": [
      "[('name', 'name'), ('age', 'age')]\n",
      "[('Alice', 'Bob'), (25, 30)]\n"
     ]
    }
   ],
   "source": [
    "dict1 = {'name': 'Alice', 'age': 25}\n",
    "dict2 = {'name': 'Bob', 'age': 30}\n",
    "\n",
    "zipped_keys = zip(dict1, dict2)\n",
    "print(list(zipped_keys)) \n",
    "\n",
    "zipped_values = zip(dict1.values(), dict2.values())\n",
    "print(list(zipped_values))  "
   ]
  },
  {
   "cell_type": "markdown",
   "id": "baeab401",
   "metadata": {},
   "source": [
    "### Practical Applications\n",
    "\n",
    "`zip()` is particularly useful in data processing for tasks like creating dictionaries from two lists, iterating over multiple sequences in parallel, and transforming data structures. It's a versatile function that can simplify many common programming tasks involving collections."
   ]
  },
  {
   "cell_type": "markdown",
   "id": "ade0aa7d",
   "metadata": {},
   "source": [
    "# 9 - Isinstance"
   ]
  },
  {
   "cell_type": "markdown",
   "id": "794c1594",
   "metadata": {},
   "source": [
    "The `isinstance()` function in Python is a built-in function that checks if an object is an instance of a specified class or a tuple of classes. It is commonly used for type checking and is very useful in situations where you need to ensure that an object has a certain type before performing operations on it. The function returns `True` if the object is an instance of the class, or any element in the tuple, otherwise it returns `False`.\n",
    "\n",
    "### Basic Syntax\n",
    "\n",
    "The basic syntax of `isinstance()` is:"
   ]
  },
  {
   "cell_type": "code",
   "execution_count": null,
   "id": "f0861056",
   "metadata": {},
   "outputs": [],
   "source": [
    "isinstance(object, classinfo)"
   ]
  },
  {
   "cell_type": "markdown",
   "id": "7a069b25",
   "metadata": {},
   "source": [
    "- `object`: This is the object whose type you want to check.\n",
    "- `classinfo`: This can be a class, type, or a tuple of classes and types.\n",
    "\n",
    "### Examples\n",
    "\n",
    "#### Checking Against a Single Type"
   ]
  },
  {
   "cell_type": "code",
   "execution_count": 56,
   "id": "ca33e27a",
   "metadata": {},
   "outputs": [
    {
     "name": "stdout",
     "output_type": "stream",
     "text": [
      "True\n",
      "True\n",
      "False\n"
     ]
    }
   ],
   "source": [
    "num = 3.14\n",
    "print(isinstance(num, float))  \n",
    "\n",
    "text = \"Hello World\"\n",
    "print(isinstance(text, str))  \n",
    "\n",
    "print(isinstance(text, int))  "
   ]
  },
  {
   "cell_type": "markdown",
   "id": "92038bce",
   "metadata": {},
   "source": [
    "#### Checking Against Multiple Types\n",
    "\n",
    "You can pass a tuple of types to check if an object is an instance of any of those types:"
   ]
  },
  {
   "cell_type": "code",
   "execution_count": 57,
   "id": "4b833b0a",
   "metadata": {},
   "outputs": [
    {
     "name": "stdout",
     "output_type": "stream",
     "text": [
      "True\n",
      "True\n",
      "False\n"
     ]
    }
   ],
   "source": [
    "value = 7\n",
    "print(isinstance(value, (int, float)))\n",
    "\n",
    "value = 7.5\n",
    "print(isinstance(value, (int, float)))\n",
    "\n",
    "value = \"Python\"\n",
    "print(isinstance(value, (int, float)))"
   ]
  },
  {
   "cell_type": "markdown",
   "id": "c1a6b7c7",
   "metadata": {},
   "source": [
    "#### Using `isinstance()` with Custom Classes\n",
    "\n",
    "`isinstance()` is also very useful when working with custom classes, especially in object-oriented programming:"
   ]
  },
  {
   "cell_type": "code",
   "execution_count": 58,
   "id": "257b1ac0",
   "metadata": {},
   "outputs": [
    {
     "name": "stdout",
     "output_type": "stream",
     "text": [
      "True\n",
      "True\n",
      "False\n"
     ]
    }
   ],
   "source": [
    "class Fruit:\n",
    "    pass\n",
    "\n",
    "class Apple(Fruit):\n",
    "    pass\n",
    "\n",
    "fruit = Fruit()\n",
    "apple = Apple()\n",
    "\n",
    "print(isinstance(apple, Apple)) \n",
    "print(isinstance(apple, Fruit)) \n",
    "print(isinstance(fruit, Apple)) "
   ]
  },
  {
   "cell_type": "markdown",
   "id": "3619698a",
   "metadata": {},
   "source": [
    "This demonstrates how `isinstance()` respects inheritance, recognizing that an `Apple` is an instance of both the `Apple` class and its parent class, `Fruit`.\n",
    "\n",
    "### Practical Uses\n",
    "\n",
    "- **Type Checking**: Ensuring that variables passed to a function are of expected types.\n",
    "- **Conditional Logic**: Performing different actions based on the type of an object.\n",
    "- **Polymorphism**: Handling different types of objects that share the same method names but may have different implementations.\n",
    "- **Validation**: Checking inputs in functions or methods to raise more informative errors or warnings when incorrect types are used."
   ]
  }
 ],
 "metadata": {
  "kernelspec": {
   "display_name": "Python 3 (ipykernel)",
   "language": "python",
   "name": "python3"
  },
  "language_info": {
   "codemirror_mode": {
    "name": "ipython",
    "version": 3
   },
   "file_extension": ".py",
   "mimetype": "text/x-python",
   "name": "python",
   "nbconvert_exporter": "python",
   "pygments_lexer": "ipython3",
   "version": "3.11.5"
  }
 },
 "nbformat": 4,
 "nbformat_minor": 5
}
